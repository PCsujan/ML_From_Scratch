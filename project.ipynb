{
  "nbformat": 4,
  "nbformat_minor": 0,
  "metadata": {
    "colab": {
      "provenance": [],
      "toc_visible": true,
      "authorship_tag": "ABX9TyPYKcVVXEQqmmrC0UK40wpC",
      "include_colab_link": true
    },
    "kernelspec": {
      "name": "python3",
      "display_name": "Python 3"
    },
    "language_info": {
      "name": "python"
    }
  },
  "cells": [
    {
      "cell_type": "markdown",
      "metadata": {
        "id": "view-in-github",
        "colab_type": "text"
      },
      "source": [
        "<a href=\"https://colab.research.google.com/github/PCsujan/ML_From_Scratch/blob/main/project.ipynb\" target=\"_parent\"><img src=\"https://colab.research.google.com/assets/colab-badge.svg\" alt=\"Open In Colab\"/></a>"
      ]
    },
    {
      "cell_type": "code",
      "execution_count": null,
      "metadata": {
        "id": "PR8UvdEG7AXd"
      },
      "outputs": [],
      "source": []
    },
    {
      "cell_type": "markdown",
      "source": [
        "project\n",
        "- import nlibraries\n",
        "- data load\n",
        "- data structure\n",
        "- first and last few rows of dataset\n",
        "- examine datatypes\n",
        "- null values\n",
        " - identify null values\n",
        " - count null values by collumns\n",
        " - total null values in dataset\n",
        "- ['Name', \"year_of_Release\", \"Genre\",\"publisher\", 'critic_count', 'User_scores', \"user_Count\", \"Deve;loper\", \"Rating\"] fill null values with a values 'unknown'\n",
        "- year_of_Release convert it to int"
      ],
      "metadata": {
        "id": "bitXESIc7CLl"
      }
    }
  ]
}